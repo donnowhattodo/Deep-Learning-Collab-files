{
  "nbformat": 4,
  "nbformat_minor": 0,
  "metadata": {
    "colab": {
      "name": "2017coco.ipynb",
      "provenance": []
    },
    "kernelspec": {
      "name": "python3",
      "display_name": "Python 3"
    },
    "language_info": {
      "name": "python"
    }
  },
  "cells": [
    {
      "cell_type": "code",
      "execution_count": 1,
      "metadata": {
        "colab": {
          "base_uri": "https://localhost:8080/"
        },
        "id": "9kaQfsQbRxK-",
        "outputId": "2e588d20-7938-4052-809a-73f825808512"
      },
      "outputs": [
        {
          "output_type": "stream",
          "name": "stdout",
          "text": [
            "Collecting CocoDataset==0.1.2\n",
            "  Downloading CocoDataset-0.1.2-py3-none-any.whl (4.2 kB)\n",
            "Requirement already satisfied: pycocotools in /usr/local/lib/python3.7/dist-packages (from CocoDataset==0.1.2) (2.0.4)\n",
            "Requirement already satisfied: numpy in /usr/local/lib/python3.7/dist-packages (from pycocotools->CocoDataset==0.1.2) (1.21.5)\n",
            "Requirement already satisfied: matplotlib>=2.1.0 in /usr/local/lib/python3.7/dist-packages (from pycocotools->CocoDataset==0.1.2) (3.2.2)\n",
            "Requirement already satisfied: kiwisolver>=1.0.1 in /usr/local/lib/python3.7/dist-packages (from matplotlib>=2.1.0->pycocotools->CocoDataset==0.1.2) (1.3.2)\n",
            "Requirement already satisfied: pyparsing!=2.0.4,!=2.1.2,!=2.1.6,>=2.0.1 in /usr/local/lib/python3.7/dist-packages (from matplotlib>=2.1.0->pycocotools->CocoDataset==0.1.2) (3.0.7)\n",
            "Requirement already satisfied: cycler>=0.10 in /usr/local/lib/python3.7/dist-packages (from matplotlib>=2.1.0->pycocotools->CocoDataset==0.1.2) (0.11.0)\n",
            "Requirement already satisfied: python-dateutil>=2.1 in /usr/local/lib/python3.7/dist-packages (from matplotlib>=2.1.0->pycocotools->CocoDataset==0.1.2) (2.8.2)\n",
            "Requirement already satisfied: six>=1.5 in /usr/local/lib/python3.7/dist-packages (from python-dateutil>=2.1->matplotlib>=2.1.0->pycocotools->CocoDataset==0.1.2) (1.15.0)\n",
            "Installing collected packages: CocoDataset\n",
            "Successfully installed CocoDataset-0.1.2\n"
          ]
        }
      ],
      "source": [
        "!pip install CocoDataset==0.1.2"
      ]
    },
    {
      "cell_type": "code",
      "source": [
        "!wget http://images.cocodataset.org/annotations/annotations_trainval2017.zip\n",
        "!unzip /content/annotations_trainval2017.zip"
      ],
      "metadata": {
        "colab": {
          "base_uri": "https://localhost:8080/"
        },
        "id": "djD3NGA3R4Bx",
        "outputId": "5fd35c90-8421-484e-b1b3-199a5d333aaa"
      },
      "execution_count": 2,
      "outputs": [
        {
          "output_type": "stream",
          "name": "stdout",
          "text": [
            "--2022-02-22 21:13:09--  http://images.cocodataset.org/annotations/annotations_trainval2017.zip\n",
            "Resolving images.cocodataset.org (images.cocodataset.org)... 52.217.138.137\n",
            "Connecting to images.cocodataset.org (images.cocodataset.org)|52.217.138.137|:80... connected.\n",
            "HTTP request sent, awaiting response... 200 OK\n",
            "Length: 252907541 (241M) [application/zip]\n",
            "Saving to: ‘annotations_trainval2017.zip’\n",
            "\n",
            "annotations_trainva 100%[===================>] 241.19M  96.2MB/s    in 2.5s    \n",
            "\n",
            "2022-02-22 21:13:11 (96.2 MB/s) - ‘annotations_trainval2017.zip’ saved [252907541/252907541]\n",
            "\n",
            "Archive:  /content/annotations_trainval2017.zip\n",
            "  inflating: annotations/instances_train2017.json  \n",
            "  inflating: annotations/instances_val2017.json  \n",
            "  inflating: annotations/captions_train2017.json  \n",
            "  inflating: annotations/captions_val2017.json  \n",
            "  inflating: annotations/person_keypoints_train2017.json  \n",
            "  inflating: annotations/person_keypoints_val2017.json  \n"
          ]
        }
      ]
    },
    {
      "cell_type": "code",
      "source": [
        "from coco_dataset import coco_dataset_download as cocod\n",
        "class_name='person'    #class name example \n",
        "images_count=50        #count of images  \n",
        "annotations_path='/content/annotations/instances_train2017.json' #path of coco dataset annotations \n",
        "#call download function \n",
        "cocod.coco_dataset_download(class_name,images_count,annotations_path)"
      ],
      "metadata": {
        "colab": {
          "base_uri": "https://localhost:8080/"
        },
        "id": "rGCXcXQrR-sU",
        "outputId": "a14cdba4-bb24-448f-c93e-b6902ff7ca14"
      },
      "execution_count": 3,
      "outputs": [
        {
          "output_type": "stream",
          "name": "stdout",
          "text": [
            "loading annotations into memory...\n",
            "Done (t=19.18s)\n",
            "creating index...\n",
            "index created!\n",
            "no.of image: 1\n",
            "no.of image: 2\n",
            "no.of image: 3\n",
            "no.of image: 4\n",
            "no.of image: 5\n",
            "no.of image: 6\n",
            "no.of image: 7\n",
            "no.of image: 8\n",
            "no.of image: 9\n",
            "no.of image: 10\n",
            "no.of image: 11\n",
            "no.of image: 12\n",
            "no.of image: 13\n",
            "no.of image: 14\n",
            "no.of image: 15\n",
            "no.of image: 16\n",
            "no.of image: 17\n",
            "no.of image: 18\n",
            "no.of image: 19\n",
            "no.of image: 20\n",
            "no.of image: 21\n",
            "no.of image: 22\n",
            "no.of image: 23\n",
            "no.of image: 24\n",
            "no.of image: 25\n",
            "no.of image: 26\n",
            "no.of image: 27\n",
            "no.of image: 28\n",
            "no.of image: 29\n",
            "no.of image: 30\n",
            "no.of image: 31\n",
            "no.of image: 32\n",
            "no.of image: 33\n",
            "no.of image: 34\n",
            "no.of image: 35\n",
            "no.of image: 36\n",
            "no.of image: 37\n",
            "no.of image: 38\n",
            "no.of image: 39\n",
            "no.of image: 40\n",
            "no.of image: 41\n",
            "no.of image: 42\n",
            "no.of image: 43\n",
            "no.of image: 44\n",
            "no.of image: 45\n",
            "no.of image: 46\n",
            "no.of image: 47\n",
            "no.of image: 48\n",
            "no.of image: 49\n",
            "no.of image: 50\n",
            "finished images download\n"
          ]
        }
      ]
    }
  ]
}